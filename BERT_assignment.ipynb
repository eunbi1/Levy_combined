{
  "cells": [
    {
      "cell_type": "markdown",
      "metadata": {
        "id": "view-in-github",
        "colab_type": "text"
      },
      "source": [
        "<a href=\"https://colab.research.google.com/github/eunbi1/Levy_combined/blob/main/BERT_assignment.ipynb\" target=\"_parent\"><img src=\"https://colab.research.google.com/assets/colab-badge.svg\" alt=\"Open In Colab\"/></a>"
      ]
    },
    {
      "cell_type": "markdown",
      "metadata": {
        "id": "r02ChNR0DMdu",
        "pycharm": {
          "name": "#%% md\n"
        }
      },
      "source": [
        "BERT Assignment \n",
        "\n",
        "The task objective is to code sentiment analysis by BERT \n",
        "\n",
        "* An assignment part is denoted by (Assingment) \n",
        "\n",
        "* Grading criteria: Points are given if all your code in this notebook is runnable and the final ppl is lower than 150\n",
        "\n",
        "* Points are not given if the testing cell at the end of the notebook is modified or extra cells (including text) are added after the last cell. Do not change N_EPOCHS for testing efficiently.\n",
        "\n",
        "* Testing your model with the testing cell is recommended. \n",
        "\n",
        "* Please do not re-use the code from the example code. You have to write the code yourself.\n"
      ]
    },
    {
      "cell_type": "markdown",
      "metadata": {
        "id": "rZJ4YxvuDMdw",
        "pycharm": {
          "name": "#%% md\n"
        }
      },
      "source": [
        "#1. Preparing Data\n",
        "\n"
      ]
    },
    {
      "cell_type": "code",
      "execution_count": 45,
      "metadata": {
        "id": "MC0R8Ba6DMdx",
        "pycharm": {
          "name": "#%%\n"
        }
      },
      "outputs": [],
      "source": [
        "import torch\n",
        "\n",
        "import random\n",
        "import numpy as np\n",
        "\n"
      ]
    },
    {
      "cell_type": "code",
      "source": [
        "pip install torchtext==0.10.0\n"
      ],
      "metadata": {
        "id": "tbsdbpLwDhBE",
        "outputId": "dd1e8893-fd4d-4e95-80a6-49fa93127c32",
        "colab": {
          "base_uri": "https://localhost:8080/"
        },
        "pycharm": {
          "name": "#%%\n"
        }
      },
      "execution_count": 46,
      "outputs": [
        {
          "output_type": "stream",
          "name": "stdout",
          "text": [
            "Looking in indexes: https://pypi.org/simple, https://us-python.pkg.dev/colab-wheels/public/simple/\n",
            "Requirement already satisfied: torchtext==0.10.0 in /usr/local/lib/python3.7/dist-packages (0.10.0)\n",
            "Requirement already satisfied: requests in /usr/local/lib/python3.7/dist-packages (from torchtext==0.10.0) (2.23.0)\n",
            "Requirement already satisfied: tqdm in /usr/local/lib/python3.7/dist-packages (from torchtext==0.10.0) (4.64.1)\n",
            "Requirement already satisfied: numpy in /usr/local/lib/python3.7/dist-packages (from torchtext==0.10.0) (1.21.6)\n",
            "Requirement already satisfied: torch==1.9.0 in /usr/local/lib/python3.7/dist-packages (from torchtext==0.10.0) (1.9.0)\n",
            "Requirement already satisfied: typing-extensions in /usr/local/lib/python3.7/dist-packages (from torch==1.9.0->torchtext==0.10.0) (4.1.1)\n",
            "Requirement already satisfied: idna<3,>=2.5 in /usr/local/lib/python3.7/dist-packages (from requests->torchtext==0.10.0) (2.10)\n",
            "Requirement already satisfied: certifi>=2017.4.17 in /usr/local/lib/python3.7/dist-packages (from requests->torchtext==0.10.0) (2022.9.24)\n",
            "Requirement already satisfied: urllib3!=1.25.0,!=1.25.1,<1.26,>=1.21.1 in /usr/local/lib/python3.7/dist-packages (from requests->torchtext==0.10.0) (1.24.3)\n",
            "Requirement already satisfied: chardet<4,>=3.0.2 in /usr/local/lib/python3.7/dist-packages (from requests->torchtext==0.10.0) (3.0.4)\n"
          ]
        }
      ]
    },
    {
      "cell_type": "code",
      "source": [
        "pip install transformers"
      ],
      "metadata": {
        "id": "ZEZoWziVDSRn",
        "colab": {
          "base_uri": "https://localhost:8080/"
        },
        "outputId": "1514046e-c128-4895-f89a-3dea12e8bcd6",
        "pycharm": {
          "name": "#%%\n"
        }
      },
      "execution_count": 47,
      "outputs": [
        {
          "output_type": "stream",
          "name": "stdout",
          "text": [
            "Looking in indexes: https://pypi.org/simple, https://us-python.pkg.dev/colab-wheels/public/simple/\n",
            "Requirement already satisfied: transformers in /usr/local/lib/python3.7/dist-packages (4.23.1)\n",
            "Requirement already satisfied: pyyaml>=5.1 in /usr/local/lib/python3.7/dist-packages (from transformers) (6.0)\n",
            "Requirement already satisfied: filelock in /usr/local/lib/python3.7/dist-packages (from transformers) (3.8.0)\n",
            "Requirement already satisfied: importlib-metadata in /usr/local/lib/python3.7/dist-packages (from transformers) (5.0.0)\n",
            "Requirement already satisfied: huggingface-hub<1.0,>=0.10.0 in /usr/local/lib/python3.7/dist-packages (from transformers) (0.10.1)\n",
            "Requirement already satisfied: requests in /usr/local/lib/python3.7/dist-packages (from transformers) (2.23.0)\n",
            "Requirement already satisfied: packaging>=20.0 in /usr/local/lib/python3.7/dist-packages (from transformers) (21.3)\n",
            "Requirement already satisfied: regex!=2019.12.17 in /usr/local/lib/python3.7/dist-packages (from transformers) (2022.6.2)\n",
            "Requirement already satisfied: tokenizers!=0.11.3,<0.14,>=0.11.1 in /usr/local/lib/python3.7/dist-packages (from transformers) (0.13.1)\n",
            "Requirement already satisfied: tqdm>=4.27 in /usr/local/lib/python3.7/dist-packages (from transformers) (4.64.1)\n",
            "Requirement already satisfied: numpy>=1.17 in /usr/local/lib/python3.7/dist-packages (from transformers) (1.21.6)\n",
            "Requirement already satisfied: typing-extensions>=3.7.4.3 in /usr/local/lib/python3.7/dist-packages (from huggingface-hub<1.0,>=0.10.0->transformers) (4.1.1)\n",
            "Requirement already satisfied: pyparsing!=3.0.5,>=2.0.2 in /usr/local/lib/python3.7/dist-packages (from packaging>=20.0->transformers) (3.0.9)\n",
            "Requirement already satisfied: zipp>=0.5 in /usr/local/lib/python3.7/dist-packages (from importlib-metadata->transformers) (3.9.0)\n",
            "Requirement already satisfied: chardet<4,>=3.0.2 in /usr/local/lib/python3.7/dist-packages (from requests->transformers) (3.0.4)\n",
            "Requirement already satisfied: certifi>=2017.4.17 in /usr/local/lib/python3.7/dist-packages (from requests->transformers) (2022.9.24)\n",
            "Requirement already satisfied: urllib3!=1.25.0,!=1.25.1,<1.26,>=1.21.1 in /usr/local/lib/python3.7/dist-packages (from requests->transformers) (1.24.3)\n",
            "Requirement already satisfied: idna<3,>=2.5 in /usr/local/lib/python3.7/dist-packages (from requests->transformers) (2.10)\n"
          ]
        }
      ]
    },
    {
      "cell_type": "markdown",
      "source": [
        " We get the pre-trained model by loading the pre-trained tiny-bert"
      ],
      "metadata": {
        "id": "_TGl4gHbLUVh",
        "pycharm": {
          "name": "#%% md\n"
        }
      }
    },
    {
      "cell_type": "code",
      "execution_count": 48,
      "metadata": {
        "id": "-Pr4F79MDMdz",
        "pycharm": {
          "name": "#%%\n"
        }
      },
      "outputs": [],
      "source": [
        "from transformers import BertTokenizer\n",
        "\n",
        "tokenizer = BertTokenizer.from_pretrained('prajjwal1/bert-tiny')\n"
      ]
    },
    {
      "cell_type": "markdown",
      "source": [
        "* tokenizer.tokenizer(string)\n",
        "* tokenizer.convert_tokens_to_idex(tokens)\n",
        "* tokenier.cls_token =[CLS]\n",
        "* tokenizer.cls_token_id =101\n",
        "* tokenizer.max_model_input_size = 512"
      ],
      "metadata": {
        "id": "D1YtzrPONPtS",
        "pycharm": {
          "name": "#%% md\n"
        }
      }
    },
    {
      "cell_type": "markdown",
      "source": [
        "The tokenizer has a vocab attribute. Using the tokenizer is as simple as calling tokenizer.tokenize on a string. This will tokenize and lower case the data in a way that is consistent with the pre-trained transformer model."
      ],
      "metadata": {
        "id": "45MelMHZKn7J",
        "pycharm": {
          "name": "#%% md\n"
        }
      }
    },
    {
      "cell_type": "code",
      "source": [
        "print('The vocab size is',len(tokenizer.vocab))\n",
        "tokens = tokenizer.tokenize('Hello WORLD how ARE yoU?')\n",
        "\n",
        "print(tokens)"
      ],
      "metadata": {
        "colab": {
          "base_uri": "https://localhost:8080/"
        },
        "id": "LnOgoh2sKnOm",
        "outputId": "a71ee8b1-7bce-427c-c2c0-3960f2a0662f",
        "pycharm": {
          "name": "#%%\n"
        }
      },
      "execution_count": 49,
      "outputs": [
        {
          "output_type": "stream",
          "name": "stdout",
          "text": [
            "The vocab size is 30522\n",
            "['hello', 'world', 'how', 'are', 'you', '?']\n"
          ]
        }
      ]
    },
    {
      "cell_type": "markdown",
      "source": [
        "We can numericalize tokens using our vocabulary using tokenizer.convert_tokens_to_ids."
      ],
      "metadata": {
        "id": "J9f4bJ-1K5_6",
        "pycharm": {
          "name": "#%% md\n"
        }
      }
    },
    {
      "cell_type": "code",
      "source": [
        "indexes = tokenizer.convert_tokens_to_ids(tokens)\n",
        "\n",
        "print(indexes)"
      ],
      "metadata": {
        "colab": {
          "base_uri": "https://localhost:8080/"
        },
        "id": "1Awij_obK70Q",
        "outputId": "ad4d1164-a027-415d-df7c-71ac56876d3a",
        "pycharm": {
          "name": "#%%\n"
        }
      },
      "execution_count": 50,
      "outputs": [
        {
          "output_type": "stream",
          "name": "stdout",
          "text": [
            "[7592, 2088, 2129, 2024, 2017, 1029]\n"
          ]
        }
      ]
    },
    {
      "cell_type": "code",
      "execution_count": 51,
      "metadata": {
        "id": "4rNQFupzDMd4",
        "colab": {
          "base_uri": "https://localhost:8080/"
        },
        "outputId": "9d90b655-301b-4fa1-d28b-52d203357247",
        "pycharm": {
          "name": "#%%\n"
        }
      },
      "outputs": [
        {
          "output_type": "stream",
          "name": "stdout",
          "text": [
            "[CLS] [SEP] [PAD] [UNK]\n"
          ]
        }
      ],
      "source": [
        "init_token = tokenizer.cls_token # cls: concatenation of the special classification token\n",
        "eos_token = tokenizer.sep_token # sep: special separation token\n",
        "pad_token = tokenizer.pad_token\n",
        "unk_token = tokenizer.unk_token\n",
        "\n",
        "print(init_token, eos_token, pad_token, unk_token)"
      ]
    },
    {
      "cell_type": "markdown",
      "metadata": {
        "id": "CFSlHGtyDMd5",
        "pycharm": {
          "name": "#%% md\n"
        }
      },
      "source": [
        "We can get the indexes of the special tokens by converting them using the vocabulary..."
      ]
    },
    {
      "cell_type": "code",
      "execution_count": 52,
      "metadata": {
        "id": "H-8P1HxaDMd5",
        "colab": {
          "base_uri": "https://localhost:8080/"
        },
        "outputId": "9c46da7d-ece2-4c29-9aaa-38adcf9aec47",
        "pycharm": {
          "name": "#%%\n"
        }
      },
      "outputs": [
        {
          "output_type": "stream",
          "name": "stdout",
          "text": [
            "101 102 0 100\n"
          ]
        }
      ],
      "source": [
        "init_token_idx = tokenizer.convert_tokens_to_ids(init_token)\n",
        "eos_token_idx = tokenizer.convert_tokens_to_ids(eos_token)\n",
        "pad_token_idx = tokenizer.convert_tokens_to_ids(pad_token)\n",
        "unk_token_idx = tokenizer.convert_tokens_to_ids(unk_token)\n",
        "\n",
        "print(init_token_idx, eos_token_idx, pad_token_idx, unk_token_idx)"
      ]
    },
    {
      "cell_type": "code",
      "execution_count": 53,
      "metadata": {
        "id": "kRTS1FEkDMd7",
        "pycharm": {
          "name": "#%%\n"
        }
      },
      "outputs": [],
      "source": [
        "def tokenize_and_cut(sentence):\n",
        "    tokens = tokenizer.tokenize(sentence) \n",
        "    return tokens"
      ]
    },
    {
      "cell_type": "markdown",
      "metadata": {
        "id": "20zTlL2BDMd7",
        "pycharm": {
          "name": "#%% md\n"
        }
      },
      "source": [
        "We pass our `tokenize_and_cut` function as the tokenizer. The `preprocessing` argument is a function that takes in the example after it has been tokenized, this is where we will convert the tokens to their indexes. \n",
        "We define the label field as before."
      ]
    },
    {
      "cell_type": "code",
      "execution_count": 54,
      "metadata": {
        "id": "9htK8yNVDMd8",
        "pycharm": {
          "name": "#%%\n"
        }
      },
      "outputs": [],
      "source": [
        "from torchtext.legacy import data\n",
        "\n",
        "TEXT = data.Field(batch_first = True,\n",
        "                  use_vocab = False,\n",
        "                  tokenize = tokenize_and_cut,\n",
        "                  preprocessing = tokenizer.convert_tokens_to_ids,\n",
        "                  init_token = init_token_idx,\n",
        "                  eos_token = eos_token_idx,\n",
        "                  pad_token = pad_token_idx,\n",
        "                  unk_token = unk_token_idx)\n",
        "\n",
        "LABEL = data.LabelField(dtype = torch.float)"
      ]
    },
    {
      "cell_type": "code",
      "execution_count": 55,
      "metadata": {
        "id": "rL0kaCYHDMd8",
        "pycharm": {
          "name": "#%%\n"
        }
      },
      "outputs": [],
      "source": [
        "from torchtext.legacy import datasets\n",
        "\n",
        "train_data, test_data = datasets.IMDB.splits(TEXT, LABEL)\n",
        "\n",
        "train_data, valid_data = train_data.split()"
      ]
    },
    {
      "cell_type": "code",
      "execution_count": 56,
      "metadata": {
        "id": "KzpkhbsODMd9",
        "colab": {
          "base_uri": "https://localhost:8080/"
        },
        "outputId": "e03eaf5e-1688-4028-a50f-909007fa91f9",
        "pycharm": {
          "name": "#%%\n"
        }
      },
      "outputs": [
        {
          "output_type": "stream",
          "name": "stdout",
          "text": [
            "Number of training examples: 17500\n",
            "Number of validation examples: 7500\n",
            "Number of testing examples: 25000\n"
          ]
        }
      ],
      "source": [
        "print(f\"Number of training examples: {len(train_data)}\")\n",
        "print(f\"Number of validation examples: {len(valid_data)}\")\n",
        "print(f\"Number of testing examples: {len(test_data)}\")"
      ]
    },
    {
      "cell_type": "code",
      "execution_count": 57,
      "metadata": {
        "id": "Ko8jghCWDMd9",
        "colab": {
          "base_uri": "https://localhost:8080/"
        },
        "outputId": "13ed84ac-69aa-46c0-bbd5-879074faff36",
        "pycharm": {
          "name": "#%%\n"
        }
      },
      "outputs": [
        {
          "output_type": "stream",
          "name": "stdout",
          "text": [
            "{'text': [2023, 6966, 2033, 17111, 2172, 1997, 2745, 3453, 1005, 1055, 10231, 7685, 1005, 6530, 5353, 1005, 2007, 2009, 1005, 1055, 9643, 2394, 2659, 5166, 2514, 1012, 1026, 7987, 1013, 1028, 1026, 7987, 1013, 1028, 15847, 1045, 2442, 2360, 1045, 2572, 1037, 5470, 1997, 2119, 14427, 1998, 3809, 2143, 1012, 1045, 9120, 1010, 2360, 1010, 1005, 17183, 14088, 1005, 2005, 2009, 1005, 1055, 1999, 23606, 18679, 1998, 1005, 2197, 2160, 2006, 1996, 2187, 1005, 2005, 2009, 1005, 1055, 11591, 14477, 21010, 2098, 24083, 1012, 1998, 2151, 2193, 1997, 1999, 15338, 3512, 1998, 6233, 12077, 3059, 6714, 12446, 1012, 1026, 7987, 1013, 1028, 1026, 7987, 1013, 1028, 2023, 2001, 2074, 23100, 2295, 1012, 2785, 1997, 2066, 1037, 2329, 5166, 2472, 2245, 1005, 2292, 1005, 1055, 12661, 1000, 1045, 13183, 2006, 2115, 6542, 1000, 2302, 2437, 2009, 2205, 24560, 2075, 2085, 2008, 5469, 2003, 2067, 1999, 4827, 2007, 21071, 1012, 1026, 7987, 1013, 1028, 1026, 7987, 1013, 1028, 1996, 2878, 2518, 2074, 2987, 1005, 1056, 6865, 2362, 2030, 2031, 1037, 2391, 1012, 2054, 1005, 1055, 2007, 1996, 9680, 5130, 1005, 1055, 2684, 1029, 2339, 8572, 2383, 1996, 2158, 2022, 2019, 6739, 1999, 3036, 8629, 1029, 10231, 7685, 1012], 'label': 'neg'}\n",
            "['this', 'reminded', 'me', 'soo', 'much', 'of', 'michael', 'winner', \"'\", 's', 'crap', '##py', \"'\", 'dirty', 'weekend', \"'\", 'with', 'it', \"'\", 's', 'awful', 'english', 'low', 'budget', 'feel', '.', '<', 'br', '/', '>', '<', 'br', '/', '>', 'firstly', 'i', 'must', 'say', 'i', 'am', 'a', 'fan', 'of', 'both', 'exploitation', 'and', 'serious', 'film', '.', 'i', 'appreciate', ',', 'say', ',', \"'\", 'dem', '##ented', \"'\", 'for', 'it', \"'\", 's', 'in', '##ept', '##itude', 'and', \"'\", 'last', 'house', 'on', 'the', 'left', \"'\", 'for', 'it', \"'\", 's', 'sheer', 'una', '##sham', '##ed', 'brutality', '.', 'and', 'any', 'number', 'of', 'in', '##vent', '##ive', 'and', 'increasingly', 'brutal', 'italian', 'spin', 'offs', '.', '<', 'br', '/', '>', '<', 'br', '/', '>', 'this', 'was', 'just', 'pointless', 'though', '.', 'kind', 'of', 'like', 'a', 'british', 'budget', 'director', 'thought', \"'\", 'let', \"'\", 's', 'remake', '\"', 'i', 'spit', 'on', 'your', 'grave', '\"', 'without', 'making', 'it', 'too', 'harrow', '##ing', 'now', 'that', 'horror', 'is', 'back', 'in', 'fashion', 'with', 'hostel', '.', '<', 'br', '/', '>', '<', 'br', '/', '>', 'the', 'whole', 'thing', 'just', 'doesn', \"'\", 't', 'hang', 'together', 'or', 'have', 'a', 'point', '.', 'what', \"'\", 's', 'with', 'the', 'rap', '##ists', \"'\", 's', 'daughter', '?', 'why', 'bother', 'having', 'the', 'man', 'be', 'an', 'expert', 'in', 'security', 'cameras', '?', 'crap', '##py', '.']\n"
          ]
        }
      ],
      "source": [
        "print(vars(train_data.examples[6]))\n",
        "tokens = tokenizer.convert_ids_to_tokens(vars(train_data.examples[6])['text'])\n",
        "\n",
        "print(tokens)"
      ]
    },
    {
      "cell_type": "code",
      "execution_count": 58,
      "metadata": {
        "id": "fe7Kc9o3DMd-",
        "colab": {
          "base_uri": "https://localhost:8080/"
        },
        "outputId": "db0464ad-a45e-44fb-bae9-4658ab9a202f",
        "pycharm": {
          "name": "#%%\n"
        }
      },
      "outputs": [
        {
          "output_type": "stream",
          "name": "stdout",
          "text": [
            "defaultdict(None, {'neg': 0, 'pos': 1})\n"
          ]
        }
      ],
      "source": [
        "LABEL.build_vocab(train_data)\n",
        "print(LABEL.vocab.stoi)"
      ]
    },
    {
      "cell_type": "code",
      "execution_count": 59,
      "metadata": {
        "id": "V4LVhkUvDMd-",
        "pycharm": {
          "name": "#%%\n"
        }
      },
      "outputs": [],
      "source": [
        "BATCH_SIZE = 128\n",
        "\n",
        "device = torch.device('cuda' if torch.cuda.is_available() else 'cpu')\n",
        "\n",
        "train_iterator, valid_iterator, test_iterator = data.BucketIterator.splits(\n",
        "    (train_data, valid_data, test_data), \n",
        "    batch_size = BATCH_SIZE, \n",
        "    device = device)"
      ]
    },
    {
      "cell_type": "markdown",
      "metadata": {
        "id": "MVVMjSG8DMd-",
        "pycharm": {
          "name": "#%% md\n"
        }
      },
      "source": [
        "#2. Build the Model\n"
      ]
    },
    {
      "cell_type": "markdown",
      "source": [
        "## 2.1 Load the pre-trained model"
      ],
      "metadata": {
        "id": "jI-fIfffPAFt",
        "pycharm": {
          "name": "#%% md\n"
        }
      }
    },
    {
      "cell_type": "code",
      "execution_count": 60,
      "metadata": {
        "id": "vq-xIhrrDMd_",
        "colab": {
          "base_uri": "https://localhost:8080/"
        },
        "outputId": "dcc424fd-6afe-45a5-8dea-fc15e826f4a2",
        "pycharm": {
          "name": "#%%\n"
        }
      },
      "outputs": [
        {
          "output_type": "stream",
          "name": "stderr",
          "text": [
            "Some weights of the model checkpoint at prajjwal1/bert-tiny were not used when initializing BertModel: ['cls.seq_relationship.weight', 'cls.predictions.bias', 'cls.predictions.transform.LayerNorm.bias', 'cls.predictions.decoder.weight', 'cls.predictions.decoder.bias', 'cls.predictions.transform.LayerNorm.weight', 'cls.seq_relationship.bias', 'cls.predictions.transform.dense.weight', 'cls.predictions.transform.dense.bias']\n",
            "- This IS expected if you are initializing BertModel from the checkpoint of a model trained on another task or with another architecture (e.g. initializing a BertForSequenceClassification model from a BertForPreTraining model).\n",
            "- This IS NOT expected if you are initializing BertModel from the checkpoint of a model that you expect to be exactly identical (initializing a BertForSequenceClassification model from a BertForSequenceClassification model).\n"
          ]
        }
      ],
      "source": [
        "from transformers import BertTokenizer, BertModel\n",
        "\n",
        "bert = BertModel.from_pretrained('prajjwal1/bert-tiny')"
      ]
    },
    {
      "cell_type": "markdown",
      "metadata": {
        "id": "jS77ay71DMd_",
        "pycharm": {
          "name": "#%% md\n"
        }
      },
      "source": [
        "## (Assignment) 2.2 Make BERTGRUSentiment \n",
        "\n",
        "1) use the pre-trained transformer model to get embedding for the text. \n",
        "\n",
        "2) These embeddings will be fed into a GRU(Gated recurrent units) to produce a prediction for the sentiment of the input sentence. \n",
        "\n",
        "3) Within the forward pass, you should warp the transformer in a `no_grad` to ensure no gradients are calculated over this part of the model. \n",
        "\n",
        "* embedding dimension = hidden_size \n",
        "* use a standard initialization method \n",
        "\n",
        "\n",
        "* Output of the transfomrer is the embeddings for the whold sentence"
      ]
    },
    {
      "cell_type": "code",
      "execution_count": 61,
      "metadata": {
        "id": "16ywfT7hDMd_",
        "pycharm": {
          "name": "#%%\n"
        }
      },
      "outputs": [],
      "source": [
        "import torch.nn as nn\n",
        "\n",
        "class BERTGRUSentiment(nn.Module):\n",
        "    def __init__(self,\n",
        "                 bert,\n",
        "                 hidden_dim,\n",
        "                 output_dim,\n",
        "                 n_layers,\n",
        "                 bidirectional,\n",
        "                 dropout):\n",
        "        \n",
        "        super().__init__()\n",
        "        \n",
        "        self.bert = bert\n",
        "        \n",
        "        embedding_dim = bert.config.to_dict()['hidden_size']\n",
        "        \n",
        "        self.rnn = nn.GRU(embedding_dim,\n",
        "                          hidden_dim,\n",
        "                          num_layers = n_layers,\n",
        "                          bidirectional = bidirectional,\n",
        "                          batch_first = True,\n",
        "                          dropout = 0 if n_layers < 2 else dropout)\n",
        "        \n",
        "        self.out = nn.Linear(hidden_dim * 2 if bidirectional else hidden_dim, output_dim)\n",
        "        \n",
        "        self.dropout = nn.Dropout(dropout)\n",
        "        \n",
        "    def forward(self, text):\n",
        "        \n",
        "        #text = [batch size, sent len]\n",
        "                \n",
        "        with torch.no_grad():\n",
        "            embedded = self.bert(text)[0]\n",
        "                \n",
        "        #embedded = [batch size, sent len, emb dim]\n",
        "        \n",
        "        _, hidden = self.rnn(embedded)\n",
        "        \n",
        "        #hidden = [n layers * n directions, batch size, emb dim]\n",
        "        \n",
        "        if self.rnn.bidirectional:\n",
        "            hidden = self.dropout(torch.cat((hidden[-2,:,:], hidden[-1,:,:]), dim = 1))\n",
        "        else:\n",
        "            hidden = self.dropout(hidden[-1,:,:])\n",
        "                \n",
        "        #hidden = [batch size, hid dim]\n",
        "        \n",
        "        output = self.out(hidden)\n",
        "        \n",
        "        #output = [batch size, out dim]\n",
        "        \n",
        "        return output"
      ]
    },
    {
      "cell_type": "markdown",
      "metadata": {
        "id": "D1vMol1XDMd_",
        "pycharm": {
          "name": "#%% md\n"
        }
      },
      "source": [
        "##2.3 Create an instance of the model "
      ]
    },
    {
      "cell_type": "code",
      "execution_count": 62,
      "metadata": {
        "id": "3RLvEkvjDMeA",
        "pycharm": {
          "name": "#%%\n"
        }
      },
      "outputs": [],
      "source": [
        "HIDDEN_DIM = 64\n",
        "OUTPUT_DIM = 1\n",
        "N_LAYERS = 1\n",
        "BIDIRECTIONAL = True\n",
        "DROPOUT = 0.1\n",
        "\n",
        "model = BERTGRUSentiment(bert,\n",
        "                         HIDDEN_DIM,\n",
        "                         OUTPUT_DIM,\n",
        "                         N_LAYERS,\n",
        "                         BIDIRECTIONAL,\n",
        "                         DROPOUT)"
      ]
    },
    {
      "cell_type": "code",
      "execution_count": 63,
      "metadata": {
        "id": "MbbHB_0WDMeA",
        "colab": {
          "base_uri": "https://localhost:8080/"
        },
        "outputId": "5e1c824e-a871-4d91-b268-15e9af08b4cb",
        "pycharm": {
          "name": "#%%\n"
        }
      },
      "outputs": [
        {
          "output_type": "stream",
          "name": "stdout",
          "text": [
            "The model has 4,460,545 trainable parameters\n"
          ]
        }
      ],
      "source": [
        "def count_parameters(model):\n",
        "    return sum(p.numel() for p in model.parameters() if p.requires_grad)\n",
        "\n",
        "print(f'The model has {count_parameters(model):,} trainable parameters')"
      ]
    },
    {
      "cell_type": "markdown",
      "metadata": {
        "id": "YccpqAH2DMeA",
        "pycharm": {
          "name": "#%% md\n"
        }
      },
      "source": [
        "## 2.4 Freeze parameters \n",
        "\n",
        "* Set their requries_grad attribute to False \n",
        "* To do this, we simply loop through all of the named_parameters in your model. \n",
        "In order to freeze paramers (not train them) we need to set their `requires_grad` attribute to `False`. To do this, we simply loop through all of the `named_parameters` in our model."
      ]
    },
    {
      "cell_type": "code",
      "execution_count": 64,
      "metadata": {
        "id": "qAEzQ99BDMeA",
        "pycharm": {
          "name": "#%%\n"
        }
      },
      "outputs": [],
      "source": [
        "for name, param in model.named_parameters():                \n",
        "    if name.startswith('bert'):\n",
        "        param.requires_grad = False"
      ]
    },
    {
      "cell_type": "code",
      "execution_count": 65,
      "metadata": {
        "id": "dgtQCsnFDMeB",
        "colab": {
          "base_uri": "https://localhost:8080/"
        },
        "outputId": "13818848-8627-4e8a-b561-c863daeb45f5",
        "pycharm": {
          "name": "#%%\n"
        }
      },
      "outputs": [
        {
          "output_type": "stream",
          "name": "stdout",
          "text": [
            "The model has 74,625 trainable parameters\n"
          ]
        }
      ],
      "source": [
        "def count_parameters(model):\n",
        "    return sum(p.numel() for p in model.parameters() if p.requires_grad)\n",
        "\n",
        "print(f'The model has {count_parameters(model):,} trainable parameters')"
      ]
    },
    {
      "cell_type": "markdown",
      "metadata": {
        "id": "U2w0B4y5DMeB",
        "pycharm": {
          "name": "#%% md\n"
        }
      },
      "source": [
        "#3. Train the Model\n"
      ]
    },
    {
      "cell_type": "code",
      "execution_count": 66,
      "metadata": {
        "id": "Nn7vDAtqDMeB",
        "pycharm": {
          "name": "#%%\n"
        }
      },
      "outputs": [],
      "source": [
        "import torch.optim as optim\n",
        "\n",
        "optimizer = optim.Adam(model.parameters())"
      ]
    },
    {
      "cell_type": "code",
      "execution_count": 67,
      "metadata": {
        "id": "2L8_2dyzDMeB",
        "pycharm": {
          "name": "#%%\n"
        }
      },
      "outputs": [],
      "source": [
        "criterion = nn.BCEWithLogitsLoss()"
      ]
    },
    {
      "cell_type": "markdown",
      "metadata": {
        "id": "wI_oeJ0kDMeC",
        "pycharm": {
          "name": "#%% md\n"
        }
      },
      "source": [
        "## (Assingment) 3.1 Check whether GPU is avaliable "
      ]
    },
    {
      "cell_type": "code",
      "source": [
        "device = torch.device('cuda' if torch.cuda.is_available() else 'cpu')"
      ],
      "metadata": {
        "id": "GBIaJnj1Si-r",
        "pycharm": {
          "name": "#%%\n"
        }
      },
      "execution_count": 68,
      "outputs": []
    },
    {
      "cell_type": "markdown",
      "source": [
        "## (Assingmnet) 3.2 Upload your model onto the device"
      ],
      "metadata": {
        "id": "JF0vTRc3S4Aw",
        "pycharm": {
          "name": "#%% md\n"
        }
      }
    },
    {
      "cell_type": "code",
      "execution_count": 69,
      "metadata": {
        "id": "qN_AoNyPDMeC",
        "pycharm": {
          "name": "#%%\n"
        }
      },
      "outputs": [],
      "source": [
        "model = model.to(device)\n",
        "criterion = criterion.to(device)"
      ]
    },
    {
      "cell_type": "markdown",
      "metadata": {
        "id": "ZCuwPBfjDMeC",
        "pycharm": {
          "name": "#%% md\n"
        }
      },
      "source": [
        "## (Assingmnet) 3.3 Make Binary_accuracy \n",
        "* Define functions for calculating accuracy"
      ]
    },
    {
      "cell_type": "code",
      "execution_count": 70,
      "metadata": {
        "id": "jrrpGaO8DMeC",
        "pycharm": {
          "name": "#%%\n"
        }
      },
      "outputs": [],
      "source": [
        "def binary_accuracy(preds, y):\n",
        "    \"\"\"\n",
        "    Returns accuracy per batch, i.e. if you get 8/10 right, this returns 0.8, NOT 8\n",
        "    \"\"\"\n",
        "\n",
        "    #round predictions to the closest integer\n",
        "    rounded_preds = torch.round(torch.sigmoid(preds))\n",
        "    correct = (rounded_preds == y).float() #convert into float for division \n",
        "    acc = correct.sum() / len(correct)\n",
        "    return acc"
      ]
    },
    {
      "cell_type": "markdown",
      "source": [
        "## (Assignment) 3.4 Make train funtion "
      ],
      "metadata": {
        "id": "cgtzfF1lUrzA",
        "pycharm": {
          "name": "#%% md\n"
        }
      }
    },
    {
      "cell_type": "code",
      "execution_count": 71,
      "metadata": {
        "id": "XgKfUSH9DMeC",
        "pycharm": {
          "name": "#%%\n"
        }
      },
      "outputs": [],
      "source": [
        "def train(model, iterator, optimizer, criterion):\n",
        "    \n",
        "    epoch_loss = 0\n",
        "    epoch_acc = 0\n",
        "    \n",
        "    model.train()\n",
        "    \n",
        "    for batch in iterator:\n",
        "        \n",
        "        optimizer.zero_grad()\n",
        "        \n",
        "        predictions = model(batch.text).squeeze(1)\n",
        "        \n",
        "        loss = criterion(predictions, batch.label)\n",
        "        \n",
        "        acc = binary_accuracy(predictions, batch.label)\n",
        "        \n",
        "        loss.backward()\n",
        "        \n",
        "        optimizer.step()\n",
        "        \n",
        "        epoch_loss += loss.item()\n",
        "        epoch_acc += acc.item()\n",
        "        \n",
        "    return epoch_loss / len(iterator), epoch_acc / len(iterator)"
      ]
    },
    {
      "cell_type": "code",
      "execution_count": 72,
      "metadata": {
        "id": "NnJBlOd7DMeC",
        "pycharm": {
          "name": "#%%\n"
        }
      },
      "outputs": [],
      "source": [
        "def evaluate(model, iterator, criterion):\n",
        "    \n",
        "    epoch_loss = 0\n",
        "    epoch_acc = 0\n",
        "    \n",
        "    model.eval()\n",
        "    \n",
        "    with torch.no_grad():\n",
        "    \n",
        "        for batch in iterator:\n",
        "\n",
        "            predictions = model(batch.text).squeeze(1)\n",
        "            \n",
        "            loss = criterion(predictions, batch.label)\n",
        "            \n",
        "            acc = binary_accuracy(predictions, batch.label)\n",
        "\n",
        "            epoch_loss += loss.item()\n",
        "            epoch_acc += acc.item()\n",
        "        \n",
        "    return epoch_loss / len(iterator), epoch_acc / len(iterator)"
      ]
    },
    {
      "cell_type": "code",
      "execution_count": 73,
      "metadata": {
        "id": "3CqnLdW9DMeD",
        "pycharm": {
          "name": "#%%\n"
        }
      },
      "outputs": [],
      "source": [
        "import time\n",
        "\n",
        "def epoch_time(start_time, end_time):\n",
        "    elapsed_time = end_time - start_time\n",
        "    elapsed_mins = int(elapsed_time / 60)\n",
        "    elapsed_secs = int(elapsed_time - (elapsed_mins * 60))\n",
        "    return elapsed_mins, elapsed_secs"
      ]
    },
    {
      "cell_type": "markdown",
      "metadata": {
        "id": "lxoxIoVjDMeD",
        "pycharm": {
          "name": "#%% md\n"
        }
      },
      "source": [
        "## (Assignment) 3.5 Train your model \n",
        "* This proecess takes considerably longer than any of the previous models due to the size of the transformer."
      ]
    },
    {
      "cell_type": "code",
      "execution_count": 76,
      "metadata": {
        "id": "btQSyK56DMeD",
        "colab": {
          "base_uri": "https://localhost:8080/"
        },
        "outputId": "b935d887-97e4-4027-d9bc-3ca645a4ad5e",
        "pycharm": {
          "name": "#%%\n"
        }
      },
      "outputs": [
        {
          "output_type": "stream",
          "name": "stdout",
          "text": [
            "Epoch: 01 | Epoch Time: 0m 16s\n",
            "\tTrain Loss: 0.555 | Train Acc: 71.64%\n",
            "\t Val. Loss: 0.540 |  Val. Acc: 72.64%\n",
            "Epoch: 02 | Epoch Time: 0m 16s\n",
            "\tTrain Loss: 0.522 | Train Acc: 74.06%\n",
            "\t Val. Loss: 0.521 |  Val. Acc: 73.93%\n",
            "Epoch: 03 | Epoch Time: 0m 16s\n",
            "\tTrain Loss: 0.501 | Train Acc: 75.60%\n",
            "\t Val. Loss: 0.526 |  Val. Acc: 73.84%\n",
            "Epoch: 04 | Epoch Time: 0m 16s\n",
            "\tTrain Loss: 0.469 | Train Acc: 77.72%\n",
            "\t Val. Loss: 0.483 |  Val. Acc: 76.66%\n",
            "Epoch: 05 | Epoch Time: 0m 16s\n",
            "\tTrain Loss: 0.441 | Train Acc: 79.54%\n",
            "\t Val. Loss: 0.437 |  Val. Acc: 79.77%\n"
          ]
        }
      ],
      "source": [
        "N_EPOCHS = 5\n",
        "\n",
        "best_valid_loss = float('inf')\n",
        "\n",
        "for epoch in range(N_EPOCHS):\n",
        "    \n",
        "    start_time = time.time()\n",
        "    \n",
        "    train_loss, train_acc = train(model, train_iterator, optimizer, criterion)\n",
        "    valid_loss, valid_acc = evaluate(model, valid_iterator, criterion)\n",
        "        \n",
        "    end_time = time.time()\n",
        "        \n",
        "    epoch_mins, epoch_secs = epoch_time(start_time, end_time)\n",
        "        \n",
        "    if valid_loss < best_valid_loss:\n",
        "        best_valid_loss = valid_loss\n",
        "        torch.save(model.state_dict(), 'model.pt')\n",
        "    \n",
        "    print(f'Epoch: {epoch+1:02} | Epoch Time: {epoch_mins}m {epoch_secs}s')\n",
        "    print(f'\\tTrain Loss: {train_loss:.3f} | Train Acc: {train_acc*100:.2f}%')\n",
        "    print(f'\\t Val. Loss: {valid_loss:.3f} |  Val. Acc: {valid_acc*100:.2f}%')"
      ]
    },
    {
      "cell_type": "code",
      "source": [
        "acc= train_acc\n",
        "print(train_acc)"
      ],
      "metadata": {
        "colab": {
          "base_uri": "https://localhost:8080/"
        },
        "id": "XhpBTj__EgaD",
        "outputId": "d15a9862-2884-47be-831a-a2d0111f5e58",
        "pycharm": {
          "name": "#%%\n"
        }
      },
      "execution_count": 77,
      "outputs": [
        {
          "output_type": "stream",
          "name": "stdout",
          "text": [
            "0.7954121710610216\n"
          ]
        }
      ]
    }
  ],
  "metadata": {
    "kernelspec": {
      "display_name": "Python 3",
      "language": "python",
      "name": "python3"
    },
    "language_info": {
      "codemirror_mode": {
        "name": "ipython",
        "version": 3
      },
      "file_extension": ".py",
      "mimetype": "text/x-python",
      "name": "python",
      "nbconvert_exporter": "python",
      "pygments_lexer": "ipython3",
      "version": "3.8.5"
    },
    "colab": {
      "provenance": [],
      "collapsed_sections": [],
      "include_colab_link": true
    },
    "accelerator": "GPU"
  },
  "nbformat": 4,
  "nbformat_minor": 0
}